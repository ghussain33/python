{
 "cells": [
  {
   "cell_type": "code",
   "execution_count": 6,
   "metadata": {
    "id": "CJiH8oZ5WYki",
    "outputId": "3b6d9ad9-5f4d-44b1-8f4e-c4c172b74d9d"
   },
   "outputs": [
    {
     "name": "stdout",
     "output_type": "stream",
     "text": [
      "<class 'list'>\n"
     ]
    }
   ],
   "source": [
    "# datatypes - int, str, float, bool , operators, mebership fun's\n",
    "\n",
    "# Lists , Tuple, Sets, Dictionaries\n",
    "\n",
    "# Lists -   []\n",
    "\n",
    "names = ['lovely','parth','rohit','ganesh','kalkidan', 10.4, True, 52 , -521]\n",
    "print(type(names))"
   ]
  },
  {
   "cell_type": "code",
   "execution_count": 8,
   "metadata": {
    "id": "H6QYq66sWYkr",
    "outputId": "b6d32e62-77c9-4c49-bdb9-f5873cf5a8c6"
   },
   "outputs": [
    {
     "name": "stdout",
     "output_type": "stream",
     "text": [
      "-521 parth -521 52\n"
     ]
    },
    {
     "data": {
      "text/plain": [
       "'ganesh'"
      ]
     },
     "execution_count": 8,
     "metadata": {},
     "output_type": "execute_result"
    }
   ],
   "source": [
    "# Indexes always start from zero - when LEFT --> RIGHT\n",
    "print(names[-1], names[1] , names[8], names[-2])  # printing only one value by giving the index\n",
    "names[0]\n",
    "names[-6]"
   ]
  },
  {
   "cell_type": "code",
   "execution_count": 9,
   "metadata": {
    "id": "LZIl5Bn_WYks"
   },
   "outputs": [
    {
     "name": "stdout",
     "output_type": "stream",
     "text": [
      "['parth', 'rohit', 'ganesh', 'kalkidan', 10.4] ['parth', 'rohit', 'ganesh', 'kalkidan', 10.4] ['parth', 'rohit', 'ganesh', 'kalkidan', 10.4]\n",
      "['parth', 'rohit']\n"
     ]
    }
   ],
   "source": [
    "# Slicing the index\n",
    "\n",
    "# list_name[Lower bound : Upper Bound-1]  --> Lower Bound are Inclusive and Upper bOund are Exclusive\n",
    "\n",
    "print(names[1:6],  names[-8:-3], names[1:-3])\n",
    "print(names[1:3])"
   ]
  },
  {
   "cell_type": "code",
   "execution_count": 10,
   "metadata": {
    "id": "nB6-AZvuWYkt"
   },
   "outputs": [
    {
     "name": "stdout",
     "output_type": "stream",
     "text": [
      "['lovely', 'parth', 'rohit', 'ganesh', 'kalkidan', 52, -521, 'new', 'values', 'not a list']\n"
     ]
    }
   ],
   "source": [
    "# List concatination\n",
    "\n",
    "new_list = names[0:5] + names[7:9] + ['new' , 'values']  +['not a list']\n",
    "\n",
    "print(new_list)"
   ]
  },
  {
   "cell_type": "code",
   "execution_count": 13,
   "metadata": {
    "id": "quaFHByNWYkt",
    "outputId": "2e4b5153-b73f-4e8e-9d8b-c3c4a4ed5fa9"
   },
   "outputs": [
    {
     "data": {
      "text/plain": [
       "[1, 3]"
      ]
     },
     "execution_count": 13,
     "metadata": {},
     "output_type": "execute_result"
    }
   ],
   "source": [
    "a=[1,3,4,5,6,7]\n",
    "\n",
    "a[2:] # start from index 2 till the very end\n",
    "\n",
    "a[:4] # index 4 exclusive , will give evertything b4 index 4\n",
    "\n",
    "a[:-2] # index -2 exclusive , will give evertything b4 index -2\n",
    "\n",
    "a[-3: ] # Everthing after index -3 till last\n",
    "\n",
    "a[ : 4] # everting b4 index 4 - and 4 is upper bound so Excluded"
   ]
  },
  {
   "cell_type": "code",
   "execution_count": 18,
   "metadata": {
    "id": "bdkuYHAiWYku",
    "outputId": "53876929-67ee-4cac-d63b-f614aec8fc9e"
   },
   "outputs": [
    {
     "data": {
      "text/plain": [
       "'parth ganesh'"
      ]
     },
     "execution_count": 18,
     "metadata": {},
     "output_type": "execute_result"
    }
   ],
   "source": [
    "# names[1:3]\n",
    "names[1]+' '+ names[3]"
   ]
  },
  {
   "cell_type": "code",
   "execution_count": 19,
   "metadata": {
    "id": "SExaYTLZWYkv",
    "outputId": "5a69920a-ac6c-42a9-9da8-8814d5c82da9"
   },
   "outputs": [
    {
     "data": {
      "text/plain": [
       "['lovely',\n",
       " 'parth',\n",
       " 'rohit',\n",
       " 'ganesh',\n",
       " 'kalkidan',\n",
       " 5000,\n",
       " -521,\n",
       " 'new',\n",
       " 'values',\n",
       " 'not a list']"
      ]
     },
     "execution_count": 19,
     "metadata": {},
     "output_type": "execute_result"
    }
   ],
   "source": [
    "new_list= ['lovely', 'parth', 'rohit', 'ganesh', 'kalkidan', 52, -521, 'new', 'values', 'not a list']\n",
    "\n",
    "# overwrite an existing value in a list\n",
    "new_list[5] = 5000\n",
    "new_list"
   ]
  },
  {
   "cell_type": "code",
   "execution_count": 20,
   "metadata": {
    "id": "BETZdQPHWYkv",
    "outputId": "49b452e8-6bd7-4e40-dde0-9cefd3a59c04"
   },
   "outputs": [
    {
     "data": {
      "text/plain": [
       "['lovely',\n",
       " 'abc',\n",
       " 'pqr',\n",
       " 'ganesh',\n",
       " 'kalkidan',\n",
       " 5000,\n",
       " -521,\n",
       " 'new',\n",
       " 'values',\n",
       " 'not a list']"
      ]
     },
     "execution_count": 20,
     "metadata": {},
     "output_type": "execute_result"
    }
   ],
   "source": [
    "new_list[1:3] = 'abc' ,'pqr'  # 1,2\n",
    "new_list"
   ]
  },
  {
   "cell_type": "code",
   "execution_count": 22,
   "metadata": {
    "id": "za-xQnroWYkw",
    "outputId": "ffe55d6e-ff9c-4fff-b9d2-4d99c293e3b5"
   },
   "outputs": [
    {
     "name": "stdout",
     "output_type": "stream",
     "text": [
      "['lovely', 'abc', 'pqr', 'ganesh', 'kalkidan', 5000, -521, 'new', 'values', 'not a list', 'lovely', 'parth', 'rohit', 'ganesh', 'kalkidan']\n"
     ]
    }
   ],
   "source": [
    "list2 = new_list + ['lovely', 'parth', 'rohit', 'ganesh', 'kalkidan']\n",
    "print(list2)"
   ]
  },
  {
   "cell_type": "code",
   "execution_count": 23,
   "metadata": {
    "id": "FdpN8xEgWYkw",
    "outputId": "ae2fde01-e518-49de-940b-721a245aa6e2",
    "scrolled": true
   },
   "outputs": [
    {
     "data": {
      "text/plain": [
       "5"
      ]
     },
     "execution_count": 23,
     "metadata": {},
     "output_type": "execute_result"
    }
   ],
   "source": [
    "# list_name.index(values)\n",
    "list2.index(5000) # but if values are repated then- it will return the very first index"
   ]
  },
  {
   "cell_type": "code",
   "execution_count": 24,
   "metadata": {
    "id": "zeq-aBITWYkw",
    "outputId": "f17bce2e-8976-40d1-9bc9-4a871f90dfa3"
   },
   "outputs": [
    {
     "data": {
      "text/plain": [
       "['lovely',\n",
       " 'abc',\n",
       " 'pqr',\n",
       " 'ganesh',\n",
       " 'kalkidan',\n",
       " 5000,\n",
       " -521,\n",
       " 'new',\n",
       " 'values',\n",
       " 'not a list']"
      ]
     },
     "execution_count": 24,
     "metadata": {},
     "output_type": "execute_result"
    }
   ],
   "source": [
    "# remove ,insert \n",
    "new_list"
   ]
  },
  {
   "cell_type": "code",
   "execution_count": 25,
   "metadata": {
    "id": "1TQXmLh3WYkx"
   },
   "outputs": [],
   "source": [
    "new_list.insert(0, 'Canisha') # (index, new_value)"
   ]
  },
  {
   "cell_type": "code",
   "execution_count": 26,
   "metadata": {
    "id": "gOB4F28LWYkx"
   },
   "outputs": [],
   "source": [
    "new_list.remove('not a list') # (value to be removed)"
   ]
  },
  {
   "cell_type": "code",
   "execution_count": 27,
   "metadata": {
    "id": "M9wIEIBFWYkx",
    "outputId": "2f5d53e1-04b9-437b-c8ab-926e9f2d3314"
   },
   "outputs": [
    {
     "data": {
      "text/plain": [
       "['lovely',\n",
       " 'abc',\n",
       " 'pqr',\n",
       " 'ganesh',\n",
       " 'kalkidan',\n",
       " 5000,\n",
       " -521,\n",
       " 'new',\n",
       " 'values',\n",
       " 'not a list',\n",
       " 'lovely',\n",
       " 'parth',\n",
       " 'rohit',\n",
       " 'ganesh',\n",
       " 'kalkidan']"
      ]
     },
     "execution_count": 27,
     "metadata": {},
     "output_type": "execute_result"
    }
   ],
   "source": [
    "# list2.remove('lovely')\n",
    "list2"
   ]
  },
  {
   "cell_type": "code",
   "execution_count": 28,
   "metadata": {
    "id": "ytmJr51JWYky",
    "outputId": "cc597ffb-0f44-4b7b-dfe4-6481c0307f49"
   },
   "outputs": [
    {
     "data": {
      "text/plain": [
       "['Canisha', 'lovely', 'abc', 'ganesh', 'kalkidan', 5000, -521, 'new', 'values']"
      ]
     },
     "execution_count": 28,
     "metadata": {},
     "output_type": "execute_result"
    }
   ],
   "source": [
    "# pop function will remove values given index\n",
    "new_list.pop(3)  \n",
    "new_list"
   ]
  },
  {
   "cell_type": "code",
   "execution_count": 29,
   "metadata": {
    "id": "oMX_Iw6rWYky",
    "outputId": "f514facc-660c-48f3-b9e6-6eeff3d65382"
   },
   "outputs": [
    {
     "data": {
      "text/plain": [
       "8"
      ]
     },
     "execution_count": 29,
     "metadata": {},
     "output_type": "execute_result"
    }
   ],
   "source": [
    "len(new_list)-1  # length will return total count of elemnets"
   ]
  },
  {
   "cell_type": "code",
   "execution_count": 30,
   "metadata": {
    "id": "yKGPrYVfWYkz",
    "outputId": "56e691cc-b244-4438-b964-e303c2a0edc1"
   },
   "outputs": [
    {
     "data": {
      "text/plain": [
       "'values'"
      ]
     },
     "execution_count": 30,
     "metadata": {},
     "output_type": "execute_result"
    }
   ],
   "source": [
    "new_list.pop(len(new_list)-1)"
   ]
  },
  {
   "cell_type": "code",
   "execution_count": 31,
   "metadata": {
    "id": "_pF3IwLGWYkz",
    "outputId": "8bbf5d8c-f89d-421b-f594-1acc54d8c5d9"
   },
   "outputs": [
    {
     "data": {
      "text/plain": [
       "['Canisha', 'lovely', 'abc', 'ganesh', 'kalkidan', 'new']"
      ]
     },
     "execution_count": 31,
     "metadata": {},
     "output_type": "execute_result"
    }
   ],
   "source": [
    "# new_list[-1]='dileep'\n",
    "new_list.remove(5000)\n",
    "new_list.remove(-521)\n",
    "new_list"
   ]
  },
  {
   "cell_type": "code",
   "execution_count": null,
   "metadata": {
    "id": "kfxcn0M6WYkz"
   },
   "outputs": [],
   "source": [
    "# list are MUTABLE -- i can make changes to them"
   ]
  },
  {
   "cell_type": "code",
   "execution_count": 32,
   "metadata": {
    "id": "BgoIODXJWYk0",
    "outputId": "da0a1d85-7e25-44d4-8642-12326e714717"
   },
   "outputs": [
    {
     "name": "stdout",
     "output_type": "stream",
     "text": [
      "Hello new\n"
     ]
    }
   ],
   "source": [
    "# FOR LOOPS\n",
    "for v in new_list:\n",
    "    new_name1 ='Hello '+ v   \n",
    "\n",
    "print(new_name1)"
   ]
  },
  {
   "cell_type": "code",
   "execution_count": 33,
   "metadata": {
    "id": "LnXtE3qhWYk0",
    "outputId": "faca9efc-a2d2-429a-bd57-cadcdca1324f"
   },
   "outputs": [
    {
     "name": "stdout",
     "output_type": "stream",
     "text": [
      "Index is  0 Value is h\n",
      "Index is  1 Value is e\n",
      "Index is  2 Value is l\n",
      "Index is  3 Value is l\n",
      "Index is  4 Value is o\n",
      "Index is  5 Value is h\n"
     ]
    }
   ],
   "source": [
    "#  independent function - returns index and value\n",
    "for a,k in enumerate('helloh'):\n",
    "    print('Index is ', a, 'Value is', k)"
   ]
  },
  {
   "cell_type": "code",
   "execution_count": 34,
   "metadata": {
    "id": "hYyP1Q2pWYk0",
    "outputId": "abb36252-a7b0-4e8d-e2a3-8bd2ec1920b5"
   },
   "outputs": [
    {
     "name": "stdout",
     "output_type": "stream",
     "text": [
      "Index is  0 Value is lovely\n",
      "Index is  1 Value is abc\n",
      "Index is  2 Value is pqr\n",
      "Index is  3 Value is ganesh\n",
      "Index is  4 Value is kalkidan\n",
      "Index is  5 Value is 5000\n",
      "Index is  6 Value is -521\n",
      "Index is  7 Value is new\n",
      "Index is  8 Value is values\n",
      "Index is  9 Value is not a list\n",
      "Index is  10 Value is lovely\n",
      "Index is  11 Value is parth\n",
      "Index is  12 Value is rohit\n",
      "Index is  13 Value is ganesh\n",
      "Index is  14 Value is kalkidan\n"
     ]
    }
   ],
   "source": [
    "#  independent function - returns index and value\n",
    "for ind,val in enumerate(list2):\n",
    "    print('Index is ', ind, 'Value is', val)\n"
   ]
  },
  {
   "cell_type": "code",
   "execution_count": 36,
   "metadata": {
    "id": "srbwfrQXWYk1",
    "outputId": "3d9e8eab-c0f0-4dfe-80f4-06a145257d18"
   },
   "outputs": [
    {
     "name": "stdout",
     "output_type": "stream",
     "text": [
      "<class 'int'>\n",
      "<class 'float'>\n",
      "<class 'str'>\n",
      "<class 'bool'>\n"
     ]
    }
   ],
   "source": [
    "list2 = [10, 20.6, 'hello' , False] \n",
    "for v in list2:\n",
    "    print(type(v))\n"
   ]
  },
  {
   "cell_type": "code",
   "execution_count": null,
   "metadata": {
    "id": "QRCugNT6WYk1"
   },
   "outputs": [],
   "source": [
    "# APPEND - allow to add new values one by one to Existing/ new list\n",
    "# adding to existing list"
   ]
  },
  {
   "cell_type": "code",
   "execution_count": 37,
   "metadata": {
    "id": "KAo0VzHqWYk1",
    "outputId": "1eecdf53-da5e-454c-b15f-399ebdcf1fa7"
   },
   "outputs": [
    {
     "name": "stdout",
     "output_type": "stream",
     "text": [
      "['Canisha', 'lovely', 'parth', 'rohit', 'ganesh', 1020, 1021, 1022]\n"
     ]
    }
   ],
   "source": [
    "new_list=['Canisha', 'lovely', 'parth', 'rohit', 'ganesh']\n",
    "new_names = ['Bharat', 'swati', 'Woo']\n",
    "lis_num = [20,21,22]\n",
    "\n",
    "for i in lis_num:\n",
    "    new_list.append(i+1000)\n",
    "\n",
    "print(new_list)\n"
   ]
  },
  {
   "cell_type": "code",
   "execution_count": null,
   "metadata": {
    "id": "TPGeKAMZWYk2",
    "outputId": "396e10a5-cd8d-4e77-e7a1-756f2dd4eec8"
   },
   "outputs": [
    {
     "name": "stdout",
     "output_type": "stream",
     "text": [
      "['C', 'l', 'p', 'r', 'g', 'C']\n"
     ]
    }
   ],
   "source": [
    "new_list=['Canisha', 'lovely', 'parth', 'rohit', 'ganesh', 'Cia']\n",
    "l2 = []\n",
    "for i in new_list:\n",
    "    l2.append(i[0])\n",
    "print(l2)"
   ]
  },
  {
   "cell_type": "code",
   "execution_count": null,
   "metadata": {
    "id": "ZKQxXujUWYk2",
    "outputId": "4d83ba00-6940-4005-d556-3e2a35375a3e"
   },
   "outputs": [
    {
     "name": "stdout",
     "output_type": "stream",
     "text": [
      "Canisha\n",
      "name do not start with C\n",
      "name do not start with C\n",
      "name do not start with C\n",
      "name do not start with C\n",
      "Cia\n"
     ]
    }
   ],
   "source": [
    "# if - else  - allow to check conditions\n",
    "\n",
    "for i in new_list:\n",
    "    if i[0] == 'C':\n",
    "        print(i)\n",
    "    else:\n",
    "        print('name do not start with C')"
   ]
  },
  {
   "cell_type": "code",
   "execution_count": 38,
   "metadata": {
    "colab": {
     "base_uri": "https://localhost:8080/",
     "height": 231
    },
    "executionInfo": {
     "elapsed": 3304,
     "status": "error",
     "timestamp": 1619028336384,
     "user": {
      "displayName": "Anupama M",
      "photoUrl": "",
      "userId": "00050964668639529012"
     },
     "user_tz": -330
    },
    "id": "n85b_ZRaWYk2",
    "outputId": "5bd7e4ae-9ffd-4f5e-cdae-f2d6c32f709a"
   },
   "outputs": [
    {
     "name": "stdout",
     "output_type": "stream",
     "text": [
      "Canisha\n",
      "name does not start with C\n",
      "name does not start with C\n",
      "name does not start with C\n",
      "name does not start with C\n"
     ]
    },
    {
     "ename": "TypeError",
     "evalue": "'int' object is not subscriptable",
     "output_type": "error",
     "traceback": [
      "\u001b[1;31m---------------------------------------------------------------------------\u001b[0m",
      "\u001b[1;31mTypeError\u001b[0m                                 Traceback (most recent call last)",
      "\u001b[1;32m<ipython-input-38-9eb5a9d4ac26>\u001b[0m in \u001b[0;36m<module>\u001b[1;34m\u001b[0m\n\u001b[0;32m      1\u001b[0m \u001b[1;32mfor\u001b[0m \u001b[0mi\u001b[0m \u001b[1;32min\u001b[0m \u001b[0mnew_list\u001b[0m\u001b[1;33m:\u001b[0m\u001b[1;33m\u001b[0m\u001b[1;33m\u001b[0m\u001b[0m\n\u001b[1;32m----> 2\u001b[1;33m     \u001b[1;32mif\u001b[0m \u001b[0mi\u001b[0m\u001b[1;33m[\u001b[0m\u001b[1;36m0\u001b[0m\u001b[1;33m]\u001b[0m\u001b[1;33m==\u001b[0m\u001b[1;34m'C'\u001b[0m\u001b[1;33m:\u001b[0m\u001b[1;33m\u001b[0m\u001b[1;33m\u001b[0m\u001b[0m\n\u001b[0m\u001b[0;32m      3\u001b[0m         \u001b[0mprint\u001b[0m\u001b[1;33m(\u001b[0m\u001b[0mi\u001b[0m\u001b[1;33m)\u001b[0m\u001b[1;33m\u001b[0m\u001b[1;33m\u001b[0m\u001b[0m\n\u001b[0;32m      4\u001b[0m     \u001b[1;32melse\u001b[0m\u001b[1;33m:\u001b[0m\u001b[1;33m\u001b[0m\u001b[1;33m\u001b[0m\u001b[0m\n\u001b[0;32m      5\u001b[0m         \u001b[0mprint\u001b[0m\u001b[1;33m(\u001b[0m\u001b[1;34m'name does not start with C'\u001b[0m\u001b[1;33m)\u001b[0m\u001b[1;33m\u001b[0m\u001b[1;33m\u001b[0m\u001b[0m\n",
      "\u001b[1;31mTypeError\u001b[0m: 'int' object is not subscriptable"
     ]
    }
   ],
   "source": [
    "for i in new_list:\n",
    "    if i[0]=='C':\n",
    "        print(i)\n",
    "    else:\n",
    "        print('name does not start with C')"
   ]
  },
  {
   "cell_type": "code",
   "execution_count": null,
   "metadata": {
    "id": "5Cfme5OQWYk3"
   },
   "outputs": [],
   "source": []
  }
 ],
 "metadata": {
  "colab": {
   "name": "UPDATED_SMP_Python_list.ipynb",
   "provenance": []
  },
  "kernelspec": {
   "display_name": "Python 3",
   "language": "python",
   "name": "python3"
  },
  "language_info": {
   "codemirror_mode": {
    "name": "ipython",
    "version": 3
   },
   "file_extension": ".py",
   "mimetype": "text/x-python",
   "name": "python",
   "nbconvert_exporter": "python",
   "pygments_lexer": "ipython3",
   "version": "3.8.5"
  }
 },
 "nbformat": 4,
 "nbformat_minor": 1
}
